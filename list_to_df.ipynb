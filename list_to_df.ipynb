{
 "cells": [
  {
   "cell_type": "code",
   "execution_count": 1,
   "id": "34377acd",
   "metadata": {},
   "outputs": [],
   "source": [
    "import pandas as pd\n",
    "import numpy as np"
   ]
  },
  {
   "cell_type": "code",
   "execution_count": 2,
   "id": "2aefc97c",
   "metadata": {},
   "outputs": [
    {
     "data": {
      "text/plain": [
       "['x1',\n",
       " 'x2',\n",
       " 'x3',\n",
       " 'x4',\n",
       " 'x5',\n",
       " 'x6',\n",
       " 'x7',\n",
       " 'x8',\n",
       " 'x9',\n",
       " 'x10',\n",
       " 'x11',\n",
       " 'x12',\n",
       " 'x13',\n",
       " 'x14',\n",
       " 'x15',\n",
       " 'x16',\n",
       " 'x17',\n",
       " 'x18',\n",
       " 'x19',\n",
       " 'x20']"
      ]
     },
     "execution_count": 2,
     "metadata": {},
     "output_type": "execute_result"
    }
   ],
   "source": [
    "l = 'x1 x2 x3 x4 x5 x6 x7 x8 x9 x10 x11 x12 x13 x14 x15 x16 x17 x18 x19 x20'.split()\n",
    "l"
   ]
  },
  {
   "cell_type": "code",
   "execution_count": 3,
   "id": "7bdc9bbe",
   "metadata": {},
   "outputs": [],
   "source": [
    "def list_df(l):\n",
    "    d1={}\n",
    "    s1 = 'c'\n",
    "    s2 = list(np.arange(len(l)//2))\n",
    "    s = []\n",
    "    for i in range(len(s2)):\n",
    "        s.append(s1 + str(s2[i]))\n",
    "        if i%2==0:\n",
    "            d1[s[i]] =  l[0:3:2]\n",
    "            for i in d1.values():\n",
    "                for j in i:\n",
    "                    if j in l:\n",
    "                        l.remove(j)\n",
    "        else:\n",
    "            d1[s[i]] = l[0:2]\n",
    "            for i in d1.values():\n",
    "                for j in i:\n",
    "                    if j in l:\n",
    "                        l.remove(j)\n",
    "    df = pd.DataFrame(data=d1)\n",
    "    return df\n",
    "        "
   ]
  },
  {
   "cell_type": "code",
   "execution_count": 4,
   "id": "2385bbf4",
   "metadata": {},
   "outputs": [
    {
     "data": {
      "text/html": [
       "<div>\n",
       "<style scoped>\n",
       "    .dataframe tbody tr th:only-of-type {\n",
       "        vertical-align: middle;\n",
       "    }\n",
       "\n",
       "    .dataframe tbody tr th {\n",
       "        vertical-align: top;\n",
       "    }\n",
       "\n",
       "    .dataframe thead th {\n",
       "        text-align: right;\n",
       "    }\n",
       "</style>\n",
       "<table border=\"1\" class=\"dataframe\">\n",
       "  <thead>\n",
       "    <tr style=\"text-align: right;\">\n",
       "      <th></th>\n",
       "      <th>c0</th>\n",
       "      <th>c1</th>\n",
       "      <th>c2</th>\n",
       "      <th>c3</th>\n",
       "      <th>c4</th>\n",
       "      <th>c5</th>\n",
       "      <th>c6</th>\n",
       "      <th>c7</th>\n",
       "      <th>c8</th>\n",
       "      <th>c9</th>\n",
       "    </tr>\n",
       "  </thead>\n",
       "  <tbody>\n",
       "    <tr>\n",
       "      <th>0</th>\n",
       "      <td>x1</td>\n",
       "      <td>x2</td>\n",
       "      <td>x5</td>\n",
       "      <td>x6</td>\n",
       "      <td>x9</td>\n",
       "      <td>x10</td>\n",
       "      <td>x13</td>\n",
       "      <td>x14</td>\n",
       "      <td>x17</td>\n",
       "      <td>x18</td>\n",
       "    </tr>\n",
       "    <tr>\n",
       "      <th>1</th>\n",
       "      <td>x3</td>\n",
       "      <td>x4</td>\n",
       "      <td>x7</td>\n",
       "      <td>x8</td>\n",
       "      <td>x11</td>\n",
       "      <td>x12</td>\n",
       "      <td>x15</td>\n",
       "      <td>x16</td>\n",
       "      <td>x19</td>\n",
       "      <td>x20</td>\n",
       "    </tr>\n",
       "  </tbody>\n",
       "</table>\n",
       "</div>"
      ],
      "text/plain": [
       "   c0  c1  c2  c3   c4   c5   c6   c7   c8   c9\n",
       "0  x1  x2  x5  x6   x9  x10  x13  x14  x17  x18\n",
       "1  x3  x4  x7  x8  x11  x12  x15  x16  x19  x20"
      ]
     },
     "execution_count": 4,
     "metadata": {},
     "output_type": "execute_result"
    }
   ],
   "source": [
    "list_df(l)"
   ]
  },
  {
   "cell_type": "code",
   "execution_count": null,
   "id": "450aaedf",
   "metadata": {},
   "outputs": [],
   "source": []
  }
 ],
 "metadata": {
  "kernelspec": {
   "display_name": "Python 3",
   "language": "python",
   "name": "python3"
  },
  "language_info": {
   "codemirror_mode": {
    "name": "ipython",
    "version": 3
   },
   "file_extension": ".py",
   "mimetype": "text/x-python",
   "name": "python",
   "nbconvert_exporter": "python",
   "pygments_lexer": "ipython3",
   "version": "3.8.8"
  }
 },
 "nbformat": 4,
 "nbformat_minor": 5
}
